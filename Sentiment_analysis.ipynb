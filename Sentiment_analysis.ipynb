{
  "cells": [
    {
      "cell_type": "markdown",
      "metadata": {
        "id": "view-in-github",
        "colab_type": "text"
      },
      "source": [
        "<a href=\"https://colab.research.google.com/github/KiptooAlvin/Alvin-project/blob/master/Sentiment_analysis.ipynb\" target=\"_parent\"><img src=\"https://colab.research.google.com/assets/colab-badge.svg\" alt=\"Open In Colab\"/></a>"
      ]
    },
    {
      "cell_type": "markdown",
      "metadata": {
        "id": "IAM2YT-C3-KF"
      },
      "source": [
        "# Tweet Sentiment Analysis Notebook\n",
        "This notebook guides you through loading, preprocessing, visualizing, and training multiple machine learning models for tweet sentiment classification. Each step includes explanations and comments for clarity."
      ],
      "id": "IAM2YT-C3-KF"
    },
    {
      "cell_type": "markdown",
      "metadata": {
        "id": "XAxsMmUQ3-KJ"
      },
      "source": [
        "## Step 1: Import Libraries\n",
        "We import all necessary libraries for data manipulation, visualization, text processing, and model building."
      ],
      "id": "XAxsMmUQ3-KJ"
    },
    {
      "cell_type": "code",
      "metadata": {
        "colab": {
          "base_uri": "https://localhost:8080/"
        },
        "id": "BaQjF2_q3-KK",
        "outputId": "51ed563d-55f7-4564-ff27-3209f51d16a4"
      },
      "source": [
        "import pandas as pd\n",
        "import numpy as np\n",
        "import matplotlib.pyplot as plt\n",
        "import seaborn as sns\n",
        "import re\n",
        "from nltk.corpus import stopwords\n",
        "from sklearn.feature_extraction.text import TfidfVectorizer\n",
        "from sklearn.linear_model import LogisticRegression\n",
        "from sklearn.ensemble import RandomForestClassifier, GradientBoostingClassifier\n",
        "from xgboost import XGBClassifier\n",
        "from sklearn.svm import SVC\n",
        "from sklearn.metrics import classification_report\n",
        "import nltk\n",
        "nltk.download('stopwords')  # Download stopwords for text cleaning"
      ],
      "id": "BaQjF2_q3-KK",
      "execution_count": 1,
      "outputs": [
        {
          "output_type": "stream",
          "name": "stderr",
          "text": [
            "[nltk_data] Downloading package stopwords to /root/nltk_data...\n",
            "[nltk_data]   Unzipping corpora/stopwords.zip.\n"
          ]
        },
        {
          "output_type": "execute_result",
          "data": {
            "text/plain": [
              "True"
            ]
          },
          "metadata": {},
          "execution_count": 1
        }
      ]
    },
    {
      "cell_type": "markdown",
      "metadata": {
        "id": "hSVYFE383-KM"
      },
      "source": [
        "## Step 2: Load and Explore Data\n",
        "Load the training and test datasets, view sample rows, and visualize the sentiment distribution."
      ],
      "id": "hSVYFE383-KM"
    },
    {
      "cell_type": "code",
      "metadata": {
        "colab": {
          "base_uri": "https://localhost:8080/",
          "height": 410
        },
        "id": "BgoTeXcb3-KM",
        "outputId": "0b72a705-dc79-4621-f800-62c69a0892c4"
      },
      "source": [
        "# Load datasets\n",
        "train = pd.read_csv('/content/Train (1).csv')\n",
        "test = pd.read_csv('/content/Test (1).csv')\n",
        "\n",
        "# Preview first few rows\n",
        "train.head()\n",
        "\n",
        "# Visualize sentiment distribution\n",
        "plt.figure(figsize=(6,4))\n",
        "sns.countplot(x='label', data=train)\n",
        "plt.title('Sentiment Distribution')\n",
        "plt.show()"
      ],
      "id": "BgoTeXcb3-KM",
      "execution_count": 3,
      "outputs": [
        {
          "output_type": "display_data",
          "data": {
            "text/plain": [
              "<Figure size 600x400 with 1 Axes>"
            ],
            "image/png": "[encoded data removed]"
          },
          "metadata": {}
        }
      ]
    },
    {
      "cell_type": "markdown",
      "metadata": {
        "id": "V2tHeY5G3-KN"
      },
      "source": [
        "## Step 3: Clean and Prepare Data\n",
        "We clean text by converting to lowercase, removing special characters and stopwords. This prepares the data for feature extraction."
      ],
      "id": "V2tHeY5G3-KN"
    },
    {
      "cell_type": "code",
      "source": [
        "stop_words = set(stopwords.words('english'))\n",
        "\n",
        "# Function to clean text\n",
        "def clean_text(text):\n",
        "    # Convert non-string values to string\n",
        "    if not isinstance(text, str):\n",
        "        text = str(text)\n",
        "\n",
        "    text = text.lower()  # Convert to lowercase\n",
        "    text = re.sub(r'[^a-z\\s]', '', text)  # Remove punctuation and numbers\n",
        "    text = ' '.join(word for word in text.split() if word not in stop_words)  # Remove stopwords\n",
        "    return text\n",
        "\n",
        "# Apply cleaning function\n",
        "train['clean_text'] = train['safe_text'].apply(clean_text)\n",
        "test['clean_text'] = test['safe_text'].apply(clean_text)\n",
        "train[['safe_text','clean_text']].head()"
      ],
      "metadata": {
        "colab": {
          "base_uri": "https://localhost:8080/",
          "height": 293
        },
        "id": "-0x_fm184egT",
        "outputId": "88615d52-825a-4c78-bc97-7b1015207b37"
      },
      "id": "-0x_fm184egT",
      "execution_count": 4,
      "outputs": [
        {
          "output_type": "execute_result",
          "data": {
            "text/plain": [
              "                                           safe_text  \\\n",
              "0  Me &amp; The Big Homie meanboy3000 #MEANBOY #M...   \n",
              "1  I'm 100% thinking of devoting my career to pro...   \n",
              "2  #whatcausesautism VACCINES, DO NOT VACCINATE Y...   \n",
              "3  I mean if they immunize my kid with something ...   \n",
              "4  Thanks to <user> Catch me performing at La Nui...   \n",
              "\n",
              "                                          clean_text  \n",
              "0  amp big homie meanboy meanboy mb mbs mmr stegm...  \n",
              "1  im thinking devoting career proving autism isn...  \n",
              "2          whatcausesautism vaccines vaccinate child  \n",
              "3  mean immunize kid something wont secretly kill...  \n",
              "4  thanks user catch performing la nuit nyc st av...  "
            ],
            "text/html": [
              "\n",
              "  <div id=\"df-ebfa9f55-e0aa-4537-a852-c9b61b8aeb7b\" class=\"colab-df-container\">\n",
              "    <div>\n",
              "<style scoped>\n",
              "    .dataframe tbody tr th:only-of-type {\n",
              "        vertical-align: middle;\n",
              "    }\n",
              "\n",
              "    .dataframe tbody tr th {\n",
              "        vertical-align: top;\n",
              "    }\n",
              "\n",
              "    .dataframe thead th {\n",
              "        text-align: right;\n",
              "    }\n",
              "</style>\n",
              "<table border=\"1\" class=\"dataframe\">\n",
              "  <thead>\n",
              "    <tr style=\"text-align: right;\">\n",
              "      <th></th>\n",
              "      <th>safe_text</th>\n",
              "      <th>clean_text</th>\n",
              "    </tr>\n",
              "  </thead>\n",
              "  <tbody>\n",
              "    <tr>\n",
              "      <th>0</th>\n",
              "      <td>Me &amp;amp; The Big Homie meanboy3000 #MEANBOY #M...</td>\n",
              "      <td>amp big homie meanboy meanboy mb mbs mmr stegm...</td>\n",
              "    </tr>\n",
              "    <tr>\n",
              "      <th>1</th>\n",
              "      <td>I'm 100% thinking of devoting my career to pro...</td>\n",
              "      <td>im thinking devoting career proving autism isn...</td>\n",
              "    </tr>\n",
              "    <tr>\n",
              "      <th>2</th>\n",
              "      <td>#whatcausesautism VACCINES, DO NOT VACCINATE Y...</td>\n",
              "      <td>whatcausesautism vaccines vaccinate child</td>\n",
              "    </tr>\n",
              "    <tr>\n",
              "      <th>3</th>\n",
              "      <td>I mean if they immunize my kid with something ...</td>\n",
              "      <td>mean immunize kid something wont secretly kill...</td>\n",
              "    </tr>\n",
              "    <tr>\n",
              "      <th>4</th>\n",
              "      <td>Thanks to &lt;user&gt; Catch me performing at La Nui...</td>\n",
              "      <td>thanks user catch performing la nuit nyc st av...</td>\n",
              "    </tr>\n",
              "  </tbody>\n",
              "</table>\n",
              "</div>\n",
              "    <div class=\"colab-df-buttons\">\n",
              "\n",
              "  <div class=\"colab-df-container\">\n",
              "    <button class=\"colab-df-convert\" onclick=\"convertToInteractive('df-ebfa9f55-e0aa-4537-a852-c9b61b8aeb7b')\"\n",
              "            title=\"Convert this dataframe to an interactive table.\"\n",
              "            style=\"display:none;\">\n",
              "\n",
              "  <svg xmlns=\"http://www.w3.org/2000/svg\" height=\"24px\" viewBox=\"0 -960 960 960\">\n",
              "    <path d=\"M120-120v-720h720v720H120Zm60-500h600v-160H180v160Zm220 220h160v-160H400v160Zm0 220h160v-160H400v160ZM180-400h160v-160H180v160Zm440 0h160v-160H620v160ZM180-180h160v-160H180v160Zm440 0h160v-160H620v160Z\"/>\n",
              "  </svg>\n",
              "    </button>\n",
              "\n",
              "  <style>\n",
              "    .colab-df-container {\n",
              "      display:flex;\n",
              "      gap: 12px;\n",
              "    }\n",
              "\n",
              "    .colab-df-convert {\n",
              "      background-color: #E8F0FE;\n",
              "      border: none;\n",
              "      border-radius: 50%;\n",
              "      cursor: pointer;\n",
              "      display: none;\n",
              "      fill: #1967D2;\n",
              "      height: 32px;\n",
              "      padding: 0 0 0 0;\n",
              "      width: 32px;\n",
              "    }\n",
              "\n",
              "    .colab-df-convert:hover {\n",
              "      background-color: #E2EBFA;\n",
              "      box-shadow: 0px 1px 2px rgba(60, 64, 67, 0.3), 0px 1px 3px 1px rgba(60, 64, 67, 0.15);\n",
              "      fill: #174EA6;\n",
              "    }\n",
              "\n",
              "    .colab-df-buttons div {\n",
              "      margin-bottom: 4px;\n",
              "    }\n",
              "\n",
              "    [theme=dark] .colab-df-convert {\n",
              "      background-color: #3B4455;\n",
              "      fill: #D2E3FC;\n",
              "    }\n",
              "\n",
              "    [theme=dark] .colab-df-convert:hover {\n",
              "      background-color: #434B5C;\n",
              "      box-shadow: 0px 1px 3px 1px rgba(0, 0, 0, 0.15);\n",
              "      filter: drop-shadow(0px 1px 2px rgba(0, 0, 0, 0.3));\n",
              "      fill: #FFFFFF;\n",
              "    }\n",
              "  </style>\n",
              "\n",
              "    <script>\n",
              "      const buttonEl =\n",
              "        document.querySelector('#df-ebfa9f55-e0aa-4537-a852-c9b61b8aeb7b button.colab-df-convert');\n",
              "      buttonEl.style.display =\n",
              "        google.colab.kernel.accessAllowed ? 'block' : 'none';\n",
              "\n",
              "      async function convertToInteractive(key) {\n",
              "        const element = document.querySelector('#df-ebfa9f55-e0aa-4537-a852-c9b61b8aeb7b');\n",
              "        const dataTable =\n",
              "          await google.colab.kernel.invokeFunction('convertToInteractive',\n",
              "                                                    [key], {});\n",
              "        if (!dataTable) return;\n",
              "\n",
              "        const docLinkHtml = 'Like what you see? Visit the ' +\n",
              "          '<a target=\"_blank\" href=https://colab.research.google.com/notebooks/data_table.ipynb>data table notebook</a>'\n",
              "          + ' to learn more about interactive tables.';\n",
              "        element.innerHTML = '';\n",
              "        dataTable['output_type'] = 'display_data';\n",
              "        await google.colab.output.renderOutput(dataTable, element);\n",
              "        const docLink = document.createElement('div');\n",
              "        docLink.innerHTML = docLinkHtml;\n",
              "        element.appendChild(docLink);\n",
              "      }\n",
              "    </script>\n",
              "  </div>\n",
              "\n",
              "\n",
              "    <div id=\"df-ef7e188d-c5fc-4f29-9ddd-ba78c4d72c0b\">\n",
              "      <button class=\"colab-df-quickchart\" onclick=\"quickchart('df-ef7e188d-c5fc-4f29-9ddd-ba78c4d72c0b')\"\n",
              "                title=\"Suggest charts\"\n",
              "                style=\"display:none;\">\n",
              "\n",
              "<svg xmlns=\"http://www.w3.org/2000/svg\" height=\"24px\"viewBox=\"0 0 24 24\"\n",
              "     width=\"24px\">\n",
              "    <g>\n",
              "        <path d=\"M19 3H5c-1.1 0-2 .9-2 2v14c0 1.1.9 2 2 2h14c1.1 0 2-.9 2-2V5c0-1.1-.9-2-2-2zM9 17H7v-7h2v7zm4 0h-2V7h2v10zm4 0h-2v-4h2v4z\"/>\n",
              "    </g>\n",
              "</svg>\n",
              "      </button>\n",
              "\n",
              "<style>\n",
              "  .colab-df-quickchart {\n",
              "      --bg-color: #E8F0FE;\n",
              "      --fill-color: #1967D2;\n",
              "      --hover-bg-color: #E2EBFA;\n",
              "      --hover-fill-color: #174EA6;\n",
              "      --disabled-fill-color: #AAA;\n",
              "      --disabled-bg-color: #DDD;\n",
              "  }\n",
              "\n",
              "  [theme=dark] .colab-df-quickchart {\n",
              "      --bg-color: #3B4455;\n",
              "      --fill-color: #D2E3FC;\n",
              "      --hover-bg-color: #434B5C;\n",
              "      --hover-fill-color: #FFFFFF;\n",
              "      --disabled-bg-color: #3B4455;\n",
              "      --disabled-fill-color: #666;\n",
              "  }\n",
              "\n",
              "  .colab-df-quickchart {\n",
              "    background-color: var(--bg-color);\n",
              "    border: none;\n",
              "    border-radius: 50%;\n",
              "    cursor: pointer;\n",
              "    display: none;\n",
              "    fill: var(--fill-color);\n",
              "    height: 32px;\n",
              "    padding: 0;\n",
              "    width: 32px;\n",
              "  }\n",
              "\n",
              "  .colab-df-quickchart:hover {\n",
              "    background-color: var(--hover-bg-color);\n",
              "    box-shadow: 0 1px 2px rgba(60, 64, 67, 0.3), 0 1px 3px 1px rgba(60, 64, 67, 0.15);\n",
              "    fill: var(--button-hover-fill-color);\n",
              "  }\n",
              "\n",
              "  .colab-df-quickchart-complete:disabled,\n",
              "  .colab-df-quickchart-complete:disabled:hover {\n",
              "    background-color: var(--disabled-bg-color);\n",
              "    fill: var(--disabled-fill-color);\n",
              "    box-shadow: none;\n",
              "  }\n",
              "\n",
              "  .colab-df-spinner {\n",
              "    border: 2px solid var(--fill-color);\n",
              "    border-color: transparent;\n",
              "    border-bottom-color: var(--fill-color);\n",
              "    animation:\n",
              "      spin 1s steps(1) infinite;\n",
              "  }\n",
              "\n",
              "  @keyframes spin {\n",
              "    0% {\n",
              "      border-color: transparent;\n",
              "      border-bottom-color: var(--fill-color);\n",
              "      border-left-color: var(--fill-color);\n",
              "    }\n",
              "    20% {\n",
              "      border-color: transparent;\n",
              "      border-left-color: var(--fill-color);\n",
              "      border-top-color: var(--fill-color);\n",
              "    }\n",
              "    30% {\n",
              "      border-color: transparent;\n",
              "      border-left-color: var(--fill-color);\n",
              "      border-top-color: var(--fill-color);\n",
              "      border-right-color: var(--fill-color);\n",
              "    }\n",
              "    40% {\n",
              "      border-color: transparent;\n",
              "      border-right-color: var(--fill-color);\n",
              "      border-top-color: var(--fill-color);\n",
              "    }\n",
              "    60% {\n",
              "      border-color: transparent;\n",
              "      border-right-color: var(--fill-color);\n",
              "    }\n",
              "    80% {\n",
              "      border-color: transparent;\n",
              "      border-right-color: var(--fill-color);\n",
              "      border-bottom-color: var(--fill-color);\n",
              "    }\n",
              "    90% {\n",
              "      border-color: transparent;\n",
              "      border-bottom-color: var(--fill-color);\n",
              "    }\n",
              "  }\n",
              "</style>\n",
              "\n",
              "      <script>\n",
              "        async function quickchart(key) {\n",
              "          const quickchartButtonEl =\n",
              "            document.querySelector('#' + key + ' button');\n",
              "          quickchartButtonEl.disabled = true;  // To prevent multiple clicks.\n",
              "          quickchartButtonEl.classList.add('colab-df-spinner');\n",
              "          try {\n",
              "            const charts = await google.colab.kernel.invokeFunction(\n",
              "                'suggestCharts', [key], {});\n",
              "          } catch (error) {\n",
              "            console.error('Error during call to suggestCharts:', error);\n",
              "          }\n",
              "          quickchartButtonEl.classList.remove('colab-df-spinner');\n",
              "          quickchartButtonEl.classList.add('colab-df-quickchart-complete');\n",
              "        }\n",
              "        (() => {\n",
              "          let quickchartButtonEl =\n",
              "            document.querySelector('#df-ef7e188d-c5fc-4f29-9ddd-ba78c4d72c0b button');\n",
              "          quickchartButtonEl.style.display =\n",
              "            google.colab.kernel.accessAllowed ? 'block' : 'none';\n",
              "        })();\n",
              "      </script>\n",
              "    </div>\n",
              "\n",
              "    </div>\n",
              "  </div>\n"
            ],
            "application/vnd.google.colaboratory.intrinsic+json": {
              "type": "dataframe",
              "summary": "{\n  \"name\": \"train[['safe_text','clean_text']]\",\n  \"rows\": 5,\n  \"fields\": [\n    {\n      \"column\": \"safe_text\",\n      \"properties\": {\n        \"dtype\": \"string\",\n        \"num_unique_values\": 5,\n        \"samples\": [\n          \"I'm 100% thinking of devoting my career to proving autism isn't caused by vaccines due to the IDIOTIC posts I've seen about World Autism Day\",\n          \"Thanks to <user> Catch me performing at La Nuit NYC 1134 1st ave. Show starts at 6! #jennifair #mmr\\u2026 <url>\",\n          \"#whatcausesautism VACCINES, DO NOT VACCINATE YOUR CHILD\"\n        ],\n        \"semantic_type\": \"\",\n        \"description\": \"\"\n      }\n    },\n    {\n      \"column\": \"clean_text\",\n      \"properties\": {\n        \"dtype\": \"string\",\n        \"num_unique_values\": 5,\n        \"samples\": [\n          \"im thinking devoting career proving autism isnt caused vaccines due idiotic posts ive seen world autism day\",\n          \"thanks user catch performing la nuit nyc st ave show starts jennifair mmr url\",\n          \"whatcausesautism vaccines vaccinate child\"\n        ],\n        \"semantic_type\": \"\",\n        \"description\": \"\"\n      }\n    }\n  ]\n}"
            }
          },
          "metadata": {},
          "execution_count": 4
        }
      ]
    },
    {
      "cell_type": "markdown",
      "metadata": {
        "id": "Rk_6Hehr3-KO"
      },
      "source": [
        "## Step 4: Convert Text to Numerical Features (TF-IDF)\n",
        "Convert the cleaned text into numerical vectors using TF-IDF vectorization for machine learning models."
      ],
      "id": "Rk_6Hehr3-KO"
    },
    {
      "cell_type": "code",
      "metadata": {
        "id": "wPSNE9O_3-KP"
      },
      "source": [
        "# Drop rows with NaN values in the 'label' column\n",
        "train.dropna(subset=['label'], inplace=True)\n",
        "\n",
        "# Convert label column to integer type\n",
        "train['label'] = train['label'].astype(int)\n",
        "\n",
        "vectorizer = TfidfVectorizer(max_features=5000)  # Limit to 5000 features\n",
        "X_train = vectorizer.fit_transform(train['clean_text'])\n",
        "X_test = vectorizer.transform(test['clean_text'])\n",
        "y_train = train['label']"
      ],
      "id": "wPSNE9O_3-KP",
      "execution_count": 5,
      "outputs": []
    },
    {
      "cell_type": "markdown",
      "metadata": {
        "id": "IHzS_8sD3-KQ"
      },
      "source": [
        "## Step 5: Logistic Regression\n",
        "\n",
        "Logistic Regression is a simple yet powerful baseline model for text classification tasks.  \n",
        "It works by estimating the probability that a given input belongs to a particular class using a logistic (sigmoid) function.  \n",
        "We’ll train a Logistic Regression model to establish a baseline for sentiment prediction before comparing it with more comp\n"
      ],
      "id": "IHzS_8sD3-KQ"
    },
    {
      "cell_type": "code",
      "metadata": {
        "colab": {
          "base_uri": "https://localhost:8080/"
        },
        "id": "dWiva2uc3-KQ",
        "outputId": "4740e8f5-3557-4f3c-f36b-63544aaa4366"
      },
      "source": [
        "# Drop rows with NaN values in the 'label' column\n",
        "train.dropna(subset=['label'], inplace=True)\n",
        "\n",
        "# Re-assign y_train after dropping rows\n",
        "y_train = train['label']\n",
        "\n",
        "logreg = LogisticRegression(max_iter=200)\n",
        "logreg.fit(X_train, y_train)\n",
        "y_pred_logreg = logreg.predict(X_train)\n",
        "print('Logistic Regression Classification Report:')\n",
        "print(classification_report(y_train, y_pred_logreg))\n",
        "\n",
        "# Save submission\n",
        "submission_logreg = pd.DataFrame({\n",
        "    'tweet_id': test['tweet_id'],\n",
        "    'sentiment': logreg.predict(X_test)\n",
        "})\n",
        "submission_logreg.to_csv('/content/submission_logreg.csv', index=False)"
      ],
      "id": "dWiva2uc3-KQ",
      "execution_count": 6,
      "outputs": [
        {
          "output_type": "stream",
          "name": "stdout",
          "text": [
            "Logistic Regression Classification Report:\n",
            "              precision    recall  f1-score   support\n",
            "\n",
            "          -1       0.88      0.38      0.53      1038\n",
            "           0       0.85      0.89      0.87      4909\n",
            "           1       0.79      0.87      0.82      4053\n",
            "\n",
            "    accuracy                           0.82     10000\n",
            "   macro avg       0.84      0.71      0.74     10000\n",
            "weighted avg       0.83      0.82      0.82     10000\n",
            "\n"
          ]
        }
      ]
    },
    {
      "cell_type": "markdown",
      "metadata": {
        "id": "5iwZJko73-KR"
      },
      "source": [
        " ## Step 6: Random Forest Classifier\n",
        "\n",
        "The Random Forest algorithm is an ensemble method that combines multiple decision trees to improve prediction accuracy and reduce overfitting.  \n",
        "Each tree is trained on a random subset of the data and features, and their results are averaged for the final prediction.  \n",
        "We’ll train a Random Forest Classifier to evaluate its ability to capture complex sentiment patterns in the text data.\n"
      ],
      "id": "5iwZJko73-KR"
    },
    {
      "cell_type": "code",
      "metadata": {
        "colab": {
          "base_uri": "https://localhost:8080/"
        },
        "id": "dWFg0vf03-KR",
        "outputId": "4f77ed4c-b01d-4fb0-ed78-8c2123a2ee25"
      },
      "source": [
        "rf = RandomForestClassifier(n_estimators=100, random_state=42)\n",
        "rf.fit(X_train, y_train)\n",
        "y_pred_rf = rf.predict(X_train)\n",
        "print('Random Forest Classification Report:')\n",
        "print(classification_report(y_train, y_pred_rf))\n",
        "\n",
        "submission_rf = pd.DataFrame({\n",
        "    'tweet_id': test['tweet_id'],\n",
        "    'sentiment': rf.predict(X_test)\n",
        "})\n",
        "submission_rf.to_csv('/content/submission_rf.csv', index=False)"
      ],
      "id": "dWFg0vf03-KR",
      "execution_count": 7,
      "outputs": [
        {
          "output_type": "stream",
          "name": "stdout",
          "text": [
            "Random Forest Classification Report:\n",
            "              precision    recall  f1-score   support\n",
            "\n",
            "          -1       1.00      0.99      0.99      1038\n",
            "           0       0.99      1.00      0.99      4909\n",
            "           1       0.99      0.99      0.99      4053\n",
            "\n",
            "    accuracy                           0.99     10000\n",
            "   macro avg       1.00      0.99      0.99     10000\n",
            "weighted avg       0.99      0.99      0.99     10000\n",
            "\n"
          ]
        }
      ]
    },
    {
      "cell_type": "markdown",
      "source": [
        "## XGBoost Classifier\n",
        "\n",
        "XGBoost (Extreme Gradient Boosting) is an efficient and scalable implementation of gradient boosting algorithms.  \n",
        "It builds an ensemble of weak learners (decision trees) in sequence, where each new tree corrects the errors of the previous ones.  \n",
        "This model is known for its high performance and is widely used in text classification tasks such as sentiment analysis.\n"
      ],
      "metadata": {
        "id": "AN7g4UarOGEh"
      },
      "id": "AN7g4UarOGEh"
    },
    {
      "cell_type": "code",
      "source": [
        "# Map labels -1, 0, 1 to 0, 1, 2 for XGBoost\n",
        "label_mapping = {-1: 0, 0: 1, 1: 2}\n",
        "y_train_mapped = y_train.map(label_mapping)\n",
        "\n",
        "xgb = XGBClassifier(use_label_encoder=False, eval_metric='mlogloss')\n",
        "xgb.fit(X_train, y_train_mapped) # Use the mapped labels for training\n",
        "y_pred_xgb_mapped = xgb.predict(X_train)\n",
        "\n",
        "# Map predictions back to original labels for evaluation and submission\n",
        "inverse_label_mapping = {0: -1, 1: 0, 2: 1}\n",
        "y_pred_xgb = pd.Series(y_pred_xgb_mapped).map(inverse_label_mapping)\n",
        "\n",
        "print('XGBoost Classification Report:')\n",
        "print(classification_report(y_train, y_pred_xgb))\n",
        "\n",
        "submission_xgb = pd.DataFrame({\n",
        "    'tweet_id': test['tweet_id'],\n",
        "    'sentiment': xgb.predict(X_test)\n",
        "})\n",
        "# Map the predicted sentiment in the submission back to the original labels\n",
        "submission_xgb['sentiment'] = submission_xgb['sentiment'].map(inverse_label_mapping)\n",
        "submission_xgb.to_csv('/content/submission_xgb.csv', index=False)"
      ],
      "metadata": {
        "colab": {
          "base_uri": "https://localhost:8080/"
        },
        "id": "Q_nLEZzjA6-N",
        "outputId": "f4c4a469-2f4b-4857-b0b6-eb0e34167982"
      },
      "id": "Q_nLEZzjA6-N",
      "execution_count": 9,
      "outputs": [
        {
          "output_type": "stream",
          "name": "stderr",
          "text": [
            "/usr/local/lib/python3.12/dist-packages/xgboost/training.py:183: UserWarning: [16:01:41] WARNING: /workspace/src/learner.cc:738: \n",
            "Parameters: { \"use_label_encoder\" } are not used.\n",
            "\n",
            "  bst.update(dtrain, iteration=i, fobj=obj)\n"
          ]
        },
        {
          "output_type": "stream",
          "name": "stdout",
          "text": [
            "XGBoost Classification Report:\n",
            "              precision    recall  f1-score   support\n",
            "\n",
            "          -1       0.97      0.51      0.67      1038\n",
            "           0       0.88      0.91      0.89      4909\n",
            "           1       0.81      0.88      0.85      4053\n",
            "\n",
            "    accuracy                           0.86     10000\n",
            "   macro avg       0.89      0.77      0.80     10000\n",
            "weighted avg       0.86      0.86      0.85     10000\n",
            "\n"
          ]
        }
      ]
    },
    {
      "cell_type": "markdown",
      "source": [
        "##  Support Vector Machine (SVM) Model\n",
        "\n",
        "The Support Vector Machine (SVM) is a powerful classification algorithm that works by finding the optimal hyperplane that separates different sentiment classes.  \n",
        "It is especially effective in high-dimensional spaces, such as text data represented by TF-IDF features.  \n",
        "We’ll train an SVM classifier and generate predictions for the test dataset.\n"
      ],
      "metadata": {
        "id": "j3XkMHlHNyKw"
      },
      "id": "j3XkMHlHNyKw"
    },
    {
      "cell_type": "code",
      "source": [
        "svm = SVC()\n",
        "svm.fit(X_train, y_train)\n",
        "y_pred_svm = svm.predict(X_train)\n",
        "print(classification_report(y_train, y_pred_svm))\n",
        "submission_svm = pd.DataFrame({'ID': test['tweet_id'], 'target': svm.predict(X_test)})\n",
        "submission_svm.to_csv('/content/submission_svm.csv', index=False)"
      ],
      "metadata": {
        "colab": {
          "base_uri": "https://localhost:8080/"
        },
        "id": "ciUcRIPONQFa",
        "outputId": "4d367fb0-2dac-49be-ea1e-3a5afd075169"
      },
      "id": "ciUcRIPONQFa",
      "execution_count": 11,
      "outputs": [
        {
          "output_type": "stream",
          "name": "stdout",
          "text": [
            "              precision    recall  f1-score   support\n",
            "\n",
            "          -1       0.98      0.69      0.81      1038\n",
            "           0       0.95      0.95      0.95      4909\n",
            "           1       0.90      0.96      0.93      4053\n",
            "\n",
            "    accuracy                           0.93     10000\n",
            "   macro avg       0.94      0.87      0.90     10000\n",
            "weighted avg       0.93      0.93      0.93     10000\n",
            "\n"
          ]
        }
      ]
    },
    {
      "cell_type": "markdown",
      "source": [
        "## Gradient Boosting Classifier\n",
        "\n",
        "Gradient Boosting is an ensemble learning method that builds models sequentially, where each new model tries to correct the errors made by the previous ones.  \n",
        "It combines multiple weak learners (usually decision trees) to create a strong predictive model.  \n",
        "We’ll train a Gradient Boosting Classifier and evaluate its performance on the sentiment data.\n"
      ],
      "metadata": {
        "id": "dVqKGly3OoWV"
      },
      "id": "dVqKGly3OoWV"
    },
    {
      "cell_type": "code",
      "source": [
        "gb = GradientBoostingClassifier()\n",
        "gb.fit(X_train, y_train)\n",
        "y_pred_gb = gb.predict(X_train)\n",
        "print(classification_report(y_train, y_pred_gb))\n",
        "submission_gb = pd.DataFrame({'ID': test['tweet_id'], 'target': gb.predict(X_test)})\n",
        "submission_gb.to_csv('/content/submission_gb.csv', index=False)"
      ],
      "metadata": {
        "colab": {
          "base_uri": "https://localhost:8080/"
        },
        "id": "OhBqL1rMNRAp",
        "outputId": "cdd4bdd0-3f75-4add-8e13-9850b2b79ffa"
      },
      "id": "OhBqL1rMNRAp",
      "execution_count": 12,
      "outputs": [
        {
          "output_type": "stream",
          "name": "stdout",
          "text": [
            "              precision    recall  f1-score   support\n",
            "\n",
            "          -1       0.90      0.21      0.34      1038\n",
            "           0       0.78      0.85      0.82      4909\n",
            "           1       0.71      0.77      0.74      4053\n",
            "\n",
            "    accuracy                           0.75     10000\n",
            "   macro avg       0.80      0.61      0.63     10000\n",
            "weighted avg       0.77      0.75      0.74     10000\n",
            "\n"
          ]
        }
      ]
    },
    {
      "cell_type": "markdown",
      "source": [
        " ## Perform Cross-Validation\n",
        "We will use Stratified K-Fold cross-validation to evaluate the performance of the models more robustly. Stratified K-Fold ensures that each fold has the same proportion of observations with a given label as the entire dataset, which is important for imbalanced datasets."
      ],
      "metadata": {
        "id": "E6LlpW3iQ_4h"
      },
      "id": "E6LlpW3iQ_4h"
    },
    {
      "cell_type": "code",
      "source": [
        "from sklearn.model_selection import StratifiedKFold\n",
        "from sklearn.metrics import accuracy_score, precision_score, recall_score, f1_score\n",
        "\n",
        "# Define the models to evaluate\n",
        "models = {\n",
        "    'Logistic Regression': LogisticRegression(max_iter=200),\n",
        "    'Random Forest': RandomForestClassifier(n_estimators=100, random_state=42),\n",
        "    'XGBoost': XGBClassifier(use_label_encoder=False, eval_metric='mlogloss'),\n",
        "    'SVM': SVC(),\n",
        "    'Gradient Boosting': GradientBoostingClassifier()\n",
        "}\n",
        "\n",
        "# Initialize Stratified K-Fold\n",
        "n_splits = 5  # You can change the number of splits\n",
        "skf = StratifiedKFold(n_splits=n_splits, shuffle=True, random_state=42)\n",
        "\n",
        "results = {}\n",
        "\n",
        "for name, model in models.items():\n",
        "    results[name] = {\n",
        "        'accuracy': [],\n",
        "        'precision': [],\n",
        "        'recall': [],\n",
        "        'f1_score': []\n",
        "    }\n",
        "    print(f\"Performing cross-validation for {name}...\")\n",
        "\n",
        "    # For XGBoost, use the mapped labels\n",
        "    y_train_cv = y_train_mapped if name == 'XGBoost' else y_train\n",
        "\n",
        "    for fold, (train_index, val_index) in enumerate(skf.split(X_train, y_train_cv)):\n",
        "        X_train_fold, X_val_fold = X_train[train_index], X_train[val_index]\n",
        "        y_train_fold, y_val_fold = y_train_cv.iloc[train_index], y_train_cv.iloc[val_index]\n",
        "\n",
        "        model.fit(X_train_fold, y_train_fold)\n",
        "        y_pred_fold = model.predict(X_val_fold)\n",
        "\n",
        "        # If the model is XGBoost, map predictions back to original labels for evaluation\n",
        "        if name == 'XGBoost':\n",
        "            y_pred_fold = pd.Series(y_pred_fold).map(inverse_label_mapping)\n",
        "            y_val_fold = pd.Series(y_val_fold).map(inverse_label_mapping)\n",
        "\n",
        "\n",
        "        results[name]['accuracy'].append(accuracy_score(y_val_fold, y_pred_fold))\n",
        "        results[name]['precision'].append(precision_score(y_val_fold, y_pred_fold, average='weighted', zero_division=0))\n",
        "        results[name]['recall'].append(recall_score(y_val_fold, y_pred_fold, average='weighted', zero_division=0))\n",
        "        results[name]['f1_score'].append(f1_score(y_val_fold, y_pred_fold, average='weighted', zero_division=0))\n",
        "\n",
        "# Calculate and display average results\n",
        "print(\"\\nCross-Validation Results:\")\n",
        "for name, metrics in results.items():\n",
        "    print(f\"\\n{name}:\")\n",
        "    print(f\"  Average Accuracy: {np.mean(metrics['accuracy']):.4f}\")\n",
        "    print(f\"  Average Precision: {np.mean(metrics['precision']):.4f}\")\n",
        "    print(f\"  Average Recall: {np.mean(metrics['recall']):.4f}\")\n",
        "    print(f\"  Average F1-Score: {np.mean(metrics['f1_score']):.4f}\")"
      ],
      "metadata": {
        "colab": {
          "base_uri": "https://localhost:8080/"
        },
        "id": "27A1k3r-Q404",
        "outputId": "2158ce7d-0a10-4278-9c2e-2f97292fb3d1"
      },
      "id": "27A1k3r-Q404",
      "execution_count": 14,
      "outputs": [
        {
          "output_type": "stream",
          "name": "stdout",
          "text": [
            "Performing cross-validation for Logistic Regression...\n",
            "Performing cross-validation for Random Forest...\n",
            "Performing cross-validation for XGBoost...\n"
          ]
        },
        {
          "output_type": "stream",
          "name": "stderr",
          "text": [
            "/usr/local/lib/python3.12/dist-packages/xgboost/training.py:183: UserWarning: [16:21:09] WARNING: /workspace/src/learner.cc:738: \n",
            "Parameters: { \"use_label_encoder\" } are not used.\n",
            "\n",
            "  bst.update(dtrain, iteration=i, fobj=obj)\n",
            "/usr/local/lib/python3.12/dist-packages/xgboost/training.py:183: UserWarning: [16:21:20] WARNING: /workspace/src/learner.cc:738: \n",
            "Parameters: { \"use_label_encoder\" } are not used.\n",
            "\n",
            "  bst.update(dtrain, iteration=i, fobj=obj)\n",
            "/usr/local/lib/python3.12/dist-packages/xgboost/training.py:183: UserWarning: [16:21:32] WARNING: /workspace/src/learner.cc:738: \n",
            "Parameters: { \"use_label_encoder\" } are not used.\n",
            "\n",
            "  bst.update(dtrain, iteration=i, fobj=obj)\n",
            "/usr/local/lib/python3.12/dist-packages/xgboost/training.py:183: UserWarning: [16:21:44] WARNING: /workspace/src/learner.cc:738: \n",
            "Parameters: { \"use_label_encoder\" } are not used.\n",
            "\n",
            "  bst.update(dtrain, iteration=i, fobj=obj)\n",
            "/usr/local/lib/python3.12/dist-packages/xgboost/training.py:183: UserWarning: [16:21:55] WARNING: /workspace/src/learner.cc:738: \n",
            "Parameters: { \"use_label_encoder\" } are not used.\n",
            "\n",
            "  bst.update(dtrain, iteration=i, fobj=obj)\n"
          ]
        },
        {
          "output_type": "stream",
          "name": "stdout",
          "text": [
            "Performing cross-validation for SVM...\n",
            "Performing cross-validation for Gradient Boosting...\n",
            "\n",
            "Cross-Validation Results:\n",
            "\n",
            "Logistic Regression:\n",
            "  Average Accuracy: 0.7277\n",
            "  Average Precision: 0.7235\n",
            "  Average Recall: 0.7277\n",
            "  Average F1-Score: 0.7105\n",
            "\n",
            "Random Forest:\n",
            "  Average Accuracy: 0.7269\n",
            "  Average Precision: 0.7324\n",
            "  Average Recall: 0.7269\n",
            "  Average F1-Score: 0.7045\n",
            "\n",
            "XGBoost:\n",
            "  Average Accuracy: 0.7236\n",
            "  Average Precision: 0.7142\n",
            "  Average Recall: 0.7236\n",
            "  Average F1-Score: 0.7075\n",
            "\n",
            "SVM:\n",
            "  Average Accuracy: 0.7319\n",
            "  Average Precision: 0.7386\n",
            "  Average Recall: 0.7319\n",
            "  Average F1-Score: 0.7100\n",
            "\n",
            "Gradient Boosting:\n",
            "  Average Accuracy: 0.7171\n",
            "  Average Precision: 0.7159\n",
            "  Average Recall: 0.7171\n",
            "  Average F1-Score: 0.6952\n"
          ]
        }
      ]
    }
  ],
  "metadata": {
    "kernelspec": {
      "display_name": "Python 3",
      "language": "python",
      "name": "python3"
    },
    "language_info": {
      "name": "python",
      "version": "3.10"
    },
    "colab": {
      "provenance": [],
      "include_colab_link": true
    }
  },
  "nbformat": 4,
  "nbformat_minor": 5
}